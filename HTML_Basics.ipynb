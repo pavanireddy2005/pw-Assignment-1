{
  "nbformat": 4,
  "nbformat_minor": 0,
  "metadata": {
    "colab": {
      "provenance": []
    },
    "kernelspec": {
      "name": "python3",
      "display_name": "Python 3"
    },
    "language_info": {
      "name": "python"
    }
  },
  "cells": [
    {
      "cell_type": "markdown",
      "source": [
        "#HTML Basics\n"
      ],
      "metadata": {
        "id": "qx5Cmg30GvQs"
      }
    },
    {
      "cell_type": "markdown",
      "source": [
        "1. Explain the basic structure of an HTML page. Why is it important to follow\n",
        "this structure?\n"
      ],
      "metadata": {
        "id": "x6d_ErzFG2xJ"
      }
    },
    {
      "cell_type": "markdown",
      "source": [
        "Ans:"
      ],
      "metadata": {
        "id": "oN-rwrdsN_js"
      }
    },
    {
      "cell_type": "markdown",
      "source": [
        "\n",
        "\n",
        "```\n",
        "# This is formatted as code\n",
        "```\n",
        "<!DOCTYPE html>\n",
        "<html lang=\"en\">\n",
        "<head>\n",
        "    <meta charset=\"UTF-8\">\n",
        "    <meta name=\"viewport\"content=\"width=device-width, initial-scale=1.0\">\n",
        "    <title>Document</title>\n",
        "</head>\n",
        "<body>\n",
        "    \n",
        "</body>\n",
        "</html>\n"
      ],
      "metadata": {
        "id": "tWFToXoQPEwn"
      }
    },
    {
      "cell_type": "markdown",
      "source": [
        "inside the head tag we give the title of the webpage.It helps us to search easy for the webpage.\n",
        "inside the body we write code for desired actions to perform in webpage.\n",
        "it is important to follow this structure because it helps to build layout of the webpage."
      ],
      "metadata": {
        "id": "PZzyLHvgG8ME"
      }
    },
    {
      "cell_type": "markdown",
      "source": [
        "2. You’re building a small personal profile page. Which HTML tags will you\n",
        "use to highlight your name as a heading, describe yourself in a paragraph, and\n",
        "emphasize a key skill?\n"
      ],
      "metadata": {
        "id": "7SQ5_JgRIQ81"
      }
    },
    {
      "cell_type": "markdown",
      "source": [
        "Ans:"
      ],
      "metadata": {
        "id": "DqPl-U2lOCWj"
      }
    },
    {
      "cell_type": "markdown",
      "source": [
        "\n",
        "\n",
        "```\n",
        "# This is formatted as code\n",
        "```\n",
        "<h1>Pavani Reddy</h1>\n",
        "<p>My name is Pavani Reddy, and I am currently pursuing my 3rd year of B.Tech in the Artificial Intelligence and Machine Learning (AIML) branch at Mohan Babu University.<br />As someone passionate about technology and innovation, I am especially fascinated by how applications,something we use every day, are built and function behind the scenes. This curiosity has led me to develop a keen interest in Full Stack Development. I am actively learning how to build both the frontend and backend of applications, aiming to understand the complete process—from user interface design to server-side logic and database integration.</p>\n"
      ],
      "metadata": {
        "id": "puvMHGxGO4mc"
      }
    },
    {
      "cell_type": "markdown",
      "source": [
        "3. Look at the code below. Can you find and fix the mistake?\n",
        "<!-- This is an HTML comment\n",
        "<h1>Welcome to my website</h1>"
      ],
      "metadata": {
        "id": "tEr5xmPONXbX"
      }
    },
    {
      "cell_type": "markdown",
      "source": [
        "Ans:"
      ],
      "metadata": {
        "id": "joJHe1r0OE1_"
      }
    },
    {
      "cell_type": "markdown",
      "source": [
        "\n",
        "```\n",
        "# This is formatted as code\n",
        "```\n",
        "The comment is not closed so the correct answer is\n",
        "<!-- This is an HTML comment-->\n",
        "<h1> Welcome to my website\n"
      ],
      "metadata": {
        "id": "07oaVdX0N5hP"
      }
    },
    {
      "cell_type": "markdown",
      "source": [
        "4. You’re creating a form that asks the user to enter their name, select their\n",
        "country from a list, and click a button to submit. Write the HTML code for this"
      ],
      "metadata": {
        "id": "SM4e4FvMPOWf"
      }
    },
    {
      "cell_type": "markdown",
      "source": [
        "Ans:"
      ],
      "metadata": {
        "id": "KxMSl0OVTNZI"
      }
    },
    {
      "cell_type": "code",
      "source": [
        "<!DOCTYPE html>\n",
        "<html lang=\"en\">\n",
        "<head>\n",
        "    <meta charset=\"UTF-8\">\n",
        "    <meta name=\"viewport\" content=\"width=device-width, initial-scale=1.0\">\n",
        "    <title>Document</title>\n",
        "</head>\n",
        "<body>\n",
        "    <h1>Enter your details</h1>\n",
        "     <form action=\"/submit-form\" method=\"post\">\n",
        "        <label for=\"name\">Name:</label><br />\n",
        "        <input type=\"text\" id=\"name\" name=\"name\" placeholder=\"Enter your name..\" required><br /><br />\n",
        "        <label for=\"country\">Country:</label><br />\n",
        "        <select id=\"country\" name=\"country\" required>\n",
        "            <option value=\"\">Please choose an option</option>\n",
        "            <option value=\"India\">India</option>\n",
        "            <option value=\"usa\">United States</option>\n",
        "            <option value=\"canada\">Canada</option>\n",
        "            <option value=\"uk\">United Kingdom</option>\n",
        "            <option value=\"australia\">Australia</option>\n",
        "            <option value=\"germany\">Germany</option>\n",
        "            <option value=\"france\">France</option>\n",
        "            </select><br /><br />\n",
        "        <input type=\"submit\" value=\"Submit\">\n",
        "     </form>\n",
        "</body>\n",
        "</html>"
      ],
      "metadata": {
        "id": "EpfMgcgYTHde"
      },
      "execution_count": null,
      "outputs": []
    },
    {
      "cell_type": "markdown",
      "source": [
        "5. Write short HTML code to show your favorite fruits in a bulleted list and\n",
        "your top 3 programming languages in a numbered list."
      ],
      "metadata": {
        "id": "bCz9ffqGTKGa"
      }
    },
    {
      "cell_type": "code",
      "source": [
        "<!DOCTYPE html>\n",
        "<html lang=\"en\">\n",
        "<head>\n",
        "    <meta charset=\"UTF-8\">\n",
        "    <meta name=\"viewport\" content=\"width=device-width, initial-scale=1.0\">\n",
        "    <title>Document</title>\n",
        "</head>\n",
        "<body>\n",
        "    <h1>Favourite Fruits</h1>\n",
        "    <ul>\n",
        "        <li>Mango</li>\n",
        "        <li>Ice Apple</li>\n",
        "        <li>Apple</li>\n",
        "        <li>Grapes</li>\n",
        "        <li>Pomogranate</li>\n",
        "    </ul>\n",
        "    <h1>Top 3 Programming language</h1>\n",
        "    <ol>\n",
        "        <li>C</li>\n",
        "        <li>Java</li>\n",
        "        <li>Python</li>\n",
        "    </ol>\n",
        "</body>\n",
        "</html>"
      ],
      "metadata": {
        "id": "lWBAY7KuUSe1"
      },
      "execution_count": null,
      "outputs": []
    },
    {
      "cell_type": "markdown",
      "source": [
        "6. Ravi wants to leave a note in his HTML file so that only other developers\n",
        "can see it, not the users on the website. How should he do this? Why are such notes\n",
        "useful?"
      ],
      "metadata": {
        "id": "uiLfRD1-UUGk"
      }
    },
    {
      "cell_type": "markdown",
      "source": [
        "Ans:\n",
        "\n",
        "He can use **HTML Comments**. These comments doesn't appear on webpage to user but they are helpful to other developers because it makes easy to change errors or can write code or to disable the code while running."
      ],
      "metadata": {
        "id": "gcOvQBqSUgGP"
      }
    },
    {
      "cell_type": "markdown",
      "source": [
        "7. Here’s a form snippet. Can you spot the error and rewrite the correct\n",
        "version?\n",
        "<form>\n",
        " <input name=\"email\">\n",
        " <select>\n",
        " <option>India</option>\n",
        " </select>\n",
        " <button>Send</buton>\n",
        "</form>"
      ],
      "metadata": {
        "id": "xYW22yuZVUZO"
      }
    },
    {
      "cell_type": "markdown",
      "source": [
        "Ans:\n",
        "\n",
        "The ending button tag is wrong"
      ],
      "metadata": {
        "id": "HwEF6R_GVtU2"
      }
    },
    {
      "cell_type": "markdown",
      "source": [
        "\n",
        "\n",
        "```\n",
        "# This is formatted as code\n",
        "```\n",
        "\n",
        "<form>\n",
        " <input name=\"email\">\n",
        " <select>\n",
        " <option>India</option>\n",
        " </select>\n",
        " <button>Send</button>\n",
        "</form>"
      ],
      "metadata": {
        "id": "kGbyO9FpVd1V"
      }
    }
  ]
}